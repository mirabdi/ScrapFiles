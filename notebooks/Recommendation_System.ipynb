{
 "cells": [
  {
   "cell_type": "code",
   "execution_count": 1,
   "metadata": {
    "colab": {
     "base_uri": "https://localhost:8080/"
    },
    "id": "NvcMQzFckjXd",
    "outputId": "b4424a9f-ffb3-4cfb-fd5b-9fbad8c29b4f"
   },
   "outputs": [
    {
     "name": "stderr",
     "output_type": "stream",
     "text": [
      "  % Total    % Received % Xferd  Average Speed   Time    Time     Time  Current\n",
      "                                 Dload  Upload   Total   Spent    Left  Speed\n",
      "\n",
      "  0     0    0     0    0     0      0      0 --:--:-- --:--:-- --:--:--     0\n",
      "  1  955k    1 14323    0     0  24687      0  0:00:39 --:--:--  0:00:39 24780\n",
      " 48  955k   48  463k    0     0   324k      0  0:00:02  0:00:01  0:00:01  325k\n",
      "100  955k  100  955k    0     0   597k      0  0:00:01  0:00:01 --:--:--  598k\n"
     ]
    }
   ],
   "source": [
    "# Data Citation:\n",
    "# F. Maxwell Harper and Joseph A. Konstan. 2015. The MovieLens Datasets: History and Context. ACM Transactions on \n",
    "# Interactive Intelligent Systems (TiiS) 5, 4: 19:1–19:19. <https://doi.org/10.1145/2827872>\n",
    "\n",
    "! curl http://files.grouplens.org/datasets/movielens/ml-latest-small.zip -o ml-latest-small.zip"
   ]
  },
  {
   "cell_type": "code",
   "execution_count": 1,
   "metadata": {
    "id": "68BdqtQikvVE"
   },
   "outputs": [],
   "source": [
    "import zipfile\n",
    "with zipfile.ZipFile('ml-latest-small.zip', 'r') as zip_ref:\n",
    "    zip_ref.extractall('data')"
   ]
  },
  {
   "cell_type": "code",
   "execution_count": 2,
   "metadata": {
    "id": "OmO7jmrpkvZf"
   },
   "outputs": [],
   "source": [
    "# import the dataset\n",
    "import pandas as pd\n",
    "movies_df = pd.read_csv('data/ml-latest-small/movies.csv')\n",
    "ratings_df = pd.read_csv('data/ml-latest-small/ratings.csv')"
   ]
  },
  {
   "cell_type": "code",
   "execution_count": 3,
   "metadata": {
    "colab": {
     "base_uri": "https://localhost:8080/"
    },
    "id": "Q-KRTGaskvdn",
    "outputId": "ec89b4c8-ee99-407c-ce07-8d9ddcf0f0b1"
   },
   "outputs": [
    {
     "name": "stdout",
     "output_type": "stream",
     "text": [
      "The dimensions of movies dataframe are: (9742, 3) \n",
      "The dimensions of ratings dataframe are: (100836, 4)\n"
     ]
    }
   ],
   "source": [
    "print('The dimensions of movies dataframe are:', movies_df.shape,'\\nThe dimensions of ratings dataframe are:', ratings_df.shape)"
   ]
  },
  {
   "cell_type": "code",
   "execution_count": 4,
   "metadata": {
    "colab": {
     "base_uri": "https://localhost:8080/",
     "height": 195
    },
    "id": "ALPeuAiBk0mM",
    "outputId": "8afc063a-7b73-4cdf-b624-cf36ecfa231a"
   },
   "outputs": [
    {
     "data": {
      "text/html": [
       "<div>\n",
       "<style scoped>\n",
       "    .dataframe tbody tr th:only-of-type {\n",
       "        vertical-align: middle;\n",
       "    }\n",
       "\n",
       "    .dataframe tbody tr th {\n",
       "        vertical-align: top;\n",
       "    }\n",
       "\n",
       "    .dataframe thead th {\n",
       "        text-align: right;\n",
       "    }\n",
       "</style>\n",
       "<table border=\"1\" class=\"dataframe\">\n",
       "  <thead>\n",
       "    <tr style=\"text-align: right;\">\n",
       "      <th></th>\n",
       "      <th>movieId</th>\n",
       "      <th>title</th>\n",
       "      <th>genres</th>\n",
       "    </tr>\n",
       "  </thead>\n",
       "  <tbody>\n",
       "    <tr>\n",
       "      <th>0</th>\n",
       "      <td>1</td>\n",
       "      <td>Toy Story (1995)</td>\n",
       "      <td>Adventure|Animation|Children|Comedy|Fantasy</td>\n",
       "    </tr>\n",
       "    <tr>\n",
       "      <th>1</th>\n",
       "      <td>2</td>\n",
       "      <td>Jumanji (1995)</td>\n",
       "      <td>Adventure|Children|Fantasy</td>\n",
       "    </tr>\n",
       "    <tr>\n",
       "      <th>2</th>\n",
       "      <td>3</td>\n",
       "      <td>Grumpier Old Men (1995)</td>\n",
       "      <td>Comedy|Romance</td>\n",
       "    </tr>\n",
       "    <tr>\n",
       "      <th>3</th>\n",
       "      <td>4</td>\n",
       "      <td>Waiting to Exhale (1995)</td>\n",
       "      <td>Comedy|Drama|Romance</td>\n",
       "    </tr>\n",
       "    <tr>\n",
       "      <th>4</th>\n",
       "      <td>5</td>\n",
       "      <td>Father of the Bride Part II (1995)</td>\n",
       "      <td>Comedy</td>\n",
       "    </tr>\n",
       "  </tbody>\n",
       "</table>\n",
       "</div>"
      ],
      "text/plain": [
       "   movieId                               title  \\\n",
       "0        1                    Toy Story (1995)   \n",
       "1        2                      Jumanji (1995)   \n",
       "2        3             Grumpier Old Men (1995)   \n",
       "3        4            Waiting to Exhale (1995)   \n",
       "4        5  Father of the Bride Part II (1995)   \n",
       "\n",
       "                                        genres  \n",
       "0  Adventure|Animation|Children|Comedy|Fantasy  \n",
       "1                   Adventure|Children|Fantasy  \n",
       "2                               Comedy|Romance  \n",
       "3                         Comedy|Drama|Romance  \n",
       "4                                       Comedy  "
      ]
     },
     "execution_count": 4,
     "metadata": {},
     "output_type": "execute_result"
    }
   ],
   "source": [
    "# Take a look at movies_df\n",
    "movies_df.head()"
   ]
  },
  {
   "cell_type": "code",
   "execution_count": 5,
   "metadata": {
    "colab": {
     "base_uri": "https://localhost:8080/",
     "height": 195
    },
    "id": "KzPoqkWbk0oh",
    "outputId": "762a17ed-9513-48f8-f1ef-0c1b63347624"
   },
   "outputs": [
    {
     "data": {
      "text/html": [
       "<div>\n",
       "<style scoped>\n",
       "    .dataframe tbody tr th:only-of-type {\n",
       "        vertical-align: middle;\n",
       "    }\n",
       "\n",
       "    .dataframe tbody tr th {\n",
       "        vertical-align: top;\n",
       "    }\n",
       "\n",
       "    .dataframe thead th {\n",
       "        text-align: right;\n",
       "    }\n",
       "</style>\n",
       "<table border=\"1\" class=\"dataframe\">\n",
       "  <thead>\n",
       "    <tr style=\"text-align: right;\">\n",
       "      <th></th>\n",
       "      <th>userId</th>\n",
       "      <th>movieId</th>\n",
       "      <th>rating</th>\n",
       "      <th>timestamp</th>\n",
       "    </tr>\n",
       "  </thead>\n",
       "  <tbody>\n",
       "    <tr>\n",
       "      <th>0</th>\n",
       "      <td>1</td>\n",
       "      <td>1</td>\n",
       "      <td>4.0</td>\n",
       "      <td>964982703</td>\n",
       "    </tr>\n",
       "    <tr>\n",
       "      <th>1</th>\n",
       "      <td>1</td>\n",
       "      <td>3</td>\n",
       "      <td>4.0</td>\n",
       "      <td>964981247</td>\n",
       "    </tr>\n",
       "    <tr>\n",
       "      <th>2</th>\n",
       "      <td>1</td>\n",
       "      <td>6</td>\n",
       "      <td>4.0</td>\n",
       "      <td>964982224</td>\n",
       "    </tr>\n",
       "    <tr>\n",
       "      <th>3</th>\n",
       "      <td>1</td>\n",
       "      <td>47</td>\n",
       "      <td>5.0</td>\n",
       "      <td>964983815</td>\n",
       "    </tr>\n",
       "    <tr>\n",
       "      <th>4</th>\n",
       "      <td>1</td>\n",
       "      <td>50</td>\n",
       "      <td>5.0</td>\n",
       "      <td>964982931</td>\n",
       "    </tr>\n",
       "  </tbody>\n",
       "</table>\n",
       "</div>"
      ],
      "text/plain": [
       "   userId  movieId  rating  timestamp\n",
       "0       1        1     4.0  964982703\n",
       "1       1        3     4.0  964981247\n",
       "2       1        6     4.0  964982224\n",
       "3       1       47     5.0  964983815\n",
       "4       1       50     5.0  964982931"
      ]
     },
     "execution_count": 5,
     "metadata": {},
     "output_type": "execute_result"
    }
   ],
   "source": [
    "# Take a look at ratings_df\n",
    "ratings_df.head()"
   ]
  },
  {
   "cell_type": "code",
   "execution_count": 6,
   "metadata": {
    "colab": {
     "base_uri": "https://localhost:8080/"
    },
    "id": "2TUaWt96k0q7",
    "outputId": "afd13baa-d03e-40c9-9dcf-f8c4cbda08d0"
   },
   "outputs": [
    {
     "name": "stdout",
     "output_type": "stream",
     "text": [
      "Number of unique users: 610\n",
      "Number of unique movies: 9724\n",
      "The full rating matrix will have: 5931640 elements.\n",
      "----------\n",
      "Number of ratings: 100836\n",
      "Therefore:  1.6999683055613624 % of the matrix is filled.\n",
      "We have an incredibly sparse matrix to work with here.\n",
      "And... as you can imagine, as the number of users and products grow, the number of elements will increase by n*2\n",
      "You are going to need a lot of memory to work with global scale... storing a full matrix in memory would be a challenge.\n",
      "One advantage here is that matrix factorization can realize the rating matrix implicitly, thus we don't need all the data\n"
     ]
    }
   ],
   "source": [
    "# Movie ID to movie name mapping\n",
    "movie_names = movies_df.set_index('movieId')['title'].to_dict()\n",
    "n_users = len(ratings_df.userId.unique())\n",
    "n_items = len(ratings_df.movieId.unique())\n",
    "print(\"Number of unique users:\", n_users)\n",
    "print(\"Number of unique movies:\", n_items)\n",
    "print(\"The full rating matrix will have:\", n_users*n_items, 'elements.')\n",
    "print('----------')\n",
    "print(\"Number of ratings:\", len(ratings_df))\n",
    "print(\"Therefore: \", len(ratings_df) / (n_users*n_items) * 100, '% of the matrix is filled.')\n",
    "print(\"We have an incredibly sparse matrix to work with here.\")\n",
    "print(\"And... as you can imagine, as the number of users and products grow, the number of elements will increase by n*2\")\n",
    "print(\"You are going to need a lot of memory to work with global scale... storing a full matrix in memory would be a challenge.\")\n",
    "print(\"One advantage here is that matrix factorization can realize the rating matrix implicitly, thus we don't need all the data\")"
   ]
  },
  {
   "cell_type": "code",
   "execution_count": 7,
   "metadata": {
    "id": "YnkTvMsCk0tY"
   },
   "outputs": [],
   "source": [
    "import torch\n",
    "import numpy as np\n",
    "from torch.autograd import Variable\n",
    "from tqdm import tqdm_notebook as tqdm\n",
    "\n",
    "class MatrixFactorization(torch.nn.Module):\n",
    "    def __init__(self, n_users, n_items, n_factors=20):\n",
    "        super().__init__()\n",
    "        # create user embeddings\n",
    "        self.user_factors = torch.nn.Embedding(n_users, n_factors) # think of this as a lookup table for the input.\n",
    "        # create item embeddings\n",
    "        self.item_factors = torch.nn.Embedding(n_items, n_factors) # think of this as a lookup table for the input.\n",
    "        self.user_factors.weight.data.uniform_(0, 0.05)\n",
    "        self.item_factors.weight.data.uniform_(0, 0.05)\n",
    "        \n",
    "    def forward(self, data):\n",
    "        # matrix multiplication\n",
    "        users, items = data[:,0], data[:,1]\n",
    "        return (self.user_factors(users)*self.item_factors(items)).sum(1)\n",
    "    # def forward(self, user, item):\n",
    "    # \t# matrix multiplication\n",
    "    #     return (self.user_factors(user)*self.item_factors(item)).sum(1)\n",
    "    \n",
    "    def predict(self, user, item):\n",
    "        return self.forward(user, item)"
   ]
  },
  {
   "cell_type": "code",
   "execution_count": 8,
   "metadata": {
    "id": "LTlGvz7sk0v2"
   },
   "outputs": [],
   "source": [
    "# Creating the dataloader (necessary for PyTorch)\n",
    "from torch.utils.data.dataset import Dataset\n",
    "from torch.utils.data import DataLoader # package that helps transform your data to machine learning readiness\n",
    "\n",
    "# Note: This isn't 'good' practice, in a MLops sense but we'll roll with this since the data is already loaded in memory.\n",
    "class Loader(Dataset):\n",
    "    def __init__(self):\n",
    "        self.ratings = ratings_df.copy()\n",
    "        \n",
    "        # Extract all user IDs and movie IDs\n",
    "        users = ratings_df.userId.unique()\n",
    "        movies = ratings_df.movieId.unique()\n",
    "        \n",
    "        #--- Producing new continuous IDs for users and movies ---\n",
    "        \n",
    "        # Unique values : index\n",
    "        self.userid2idx = {o:i for i,o in enumerate(users)}\n",
    "        self.movieid2idx = {o:i for i,o in enumerate(movies)}\n",
    "        \n",
    "        # Obtained continuous ID for users and movies\n",
    "        self.idx2userid = {i:o for o,i in self.userid2idx.items()}\n",
    "        self.idx2movieid = {i:o for o,i in self.movieid2idx.items()}\n",
    "        \n",
    "        # return the id from the indexed values as noted in the lambda function down below.\n",
    "        self.ratings.movieId = ratings_df.movieId.apply(lambda x: self.movieid2idx[x])\n",
    "        self.ratings.userId = ratings_df.userId.apply(lambda x: self.userid2idx[x])\n",
    "        \n",
    "        \n",
    "        self.x = self.ratings.drop(['rating', 'timestamp'], axis=1).values\n",
    "        self.y = self.ratings['rating'].values\n",
    "        self.x, self.y = torch.tensor(self.x), torch.tensor(self.y) # Transforms the data to tensors (ready for torch models.)\n",
    "\n",
    "    def __getitem__(self, index):\n",
    "        return (self.x[index], self.y[index])\n",
    "\n",
    "    def __len__(self):\n",
    "        return len(self.ratings)"
   ]
  },
  {
   "cell_type": "code",
   "execution_count": 9,
   "metadata": {
    "colab": {
     "base_uri": "https://localhost:8080/"
    },
    "id": "J6MK3Ymmk0yi",
    "outputId": "50e960e6-ccc7-4852-98cf-55144f7848c7"
   },
   "outputs": [
    {
     "name": "stdout",
     "output_type": "stream",
     "text": [
      "Is running on GPU: True\n",
      "MatrixFactorization(\n",
      "  (user_factors): Embedding(610, 8)\n",
      "  (item_factors): Embedding(9724, 8)\n",
      ")\n",
      "user_factors.weight tensor([[0.0069, 0.0212, 0.0058,  ..., 0.0067, 0.0007, 0.0215],\n",
      "        [0.0312, 0.0343, 0.0195,  ..., 0.0337, 0.0422, 0.0430],\n",
      "        [0.0244, 0.0383, 0.0429,  ..., 0.0450, 0.0019, 0.0284],\n",
      "        ...,\n",
      "        [0.0013, 0.0125, 0.0048,  ..., 0.0497, 0.0447, 0.0061],\n",
      "        [0.0401, 0.0168, 0.0425,  ..., 0.0240, 0.0194, 0.0360],\n",
      "        [0.0019, 0.0247, 0.0121,  ..., 0.0333, 0.0037, 0.0158]])\n",
      "item_factors.weight tensor([[0.0299, 0.0500, 0.0279,  ..., 0.0052, 0.0327, 0.0182],\n",
      "        [0.0369, 0.0002, 0.0129,  ..., 0.0318, 0.0317, 0.0064],\n",
      "        [0.0278, 0.0442, 0.0163,  ..., 0.0345, 0.0303, 0.0092],\n",
      "        ...,\n",
      "        [0.0141, 0.0373, 0.0249,  ..., 0.0367, 0.0349, 0.0348],\n",
      "        [0.0075, 0.0114, 0.0492,  ..., 0.0422, 0.0107, 0.0134],\n",
      "        [0.0106, 0.0189, 0.0288,  ..., 0.0008, 0.0129, 0.0179]])\n"
     ]
    }
   ],
   "source": [
    "num_epochs = 128\n",
    "cuda = torch.cuda.is_available()\n",
    "\n",
    "print(\"Is running on GPU:\", cuda)\n",
    "\n",
    "model = MatrixFactorization(n_users, n_items, n_factors=8)\n",
    "print(model)\n",
    "for name, param in model.named_parameters():\n",
    "    if param.requires_grad:\n",
    "        print(name, param.data)\n",
    "# GPU enable if you have a GPU...\n",
    "if cuda:\n",
    "    model = model.cuda()\n",
    "\n",
    "# MSE loss\n",
    "loss_fn = torch.nn.MSELoss()\n",
    "\n",
    "# ADAM optimizier\n",
    "optimizer = torch.optim.Adam(model.parameters(), lr=1e-3)\n",
    "\n",
    "# Train data\n",
    "train_set = Loader()\n",
    "train_loader = DataLoader(train_set, 128, shuffle=True)"
   ]
  },
  {
   "cell_type": "code",
   "execution_count": 10,
   "metadata": {
    "colab": {
     "base_uri": "https://localhost:8080/",
     "height": 1000,
     "referenced_widgets": [
      "3c1765cabeaf4d75a130311ddc4591a1",
      "6db170b52f5a4f72afd083a3a9c157aa",
      "69073fd458234bba829af9731b4fce1c",
      "88151edb53134487b95f6bcbcd7fd2b4",
      "9b185906b1dc465e93b9f058a1fec47a",
      "20b4738815cd467dba2946031d6d9027",
      "c279f9a0a0fe498b9db167a237517e6e",
      "005a499c40bd407ca20c2492d9c4f170"
     ]
    },
    "id": "8fIDIdStk000",
    "outputId": "84caf390-d372-4d82-a045-cbf12a9c8cce",
    "scrolled": true
   },
   "outputs": [
    {
     "name": "stderr",
     "output_type": "stream",
     "text": [
      "C:\\Users\\abdir\\AppData\\Local\\Temp\\ipykernel_17308\\59576823.py:1: TqdmDeprecationWarning: This function will be removed in tqdm==5.0.0\n",
      "Please use `tqdm.notebook.tqdm` instead of `tqdm.tqdm_notebook`\n",
      "  for it in tqdm(range(num_epochs)):\n"
     ]
    },
    {
     "data": {
      "application/vnd.jupyter.widget-view+json": {
       "model_id": "da279d756d8e415eab6a99692f32d843",
       "version_major": 2,
       "version_minor": 0
      },
      "text/plain": [
       "  0%|          | 0/128 [00:00<?, ?it/s]"
      ]
     },
     "metadata": {},
     "output_type": "display_data"
    },
    {
     "name": "stdout",
     "output_type": "stream",
     "text": [
      "iter #0 Loss: 11.063584843262802\n",
      "iter #1 Loss: 4.744082423333589\n",
      "iter #2 Loss: 2.4729473518236036\n",
      "iter #3 Loss: 1.7201574590000404\n",
      "iter #4 Loss: 1.345625264012269\n",
      "iter #5 Loss: 1.128412736248849\n",
      "iter #6 Loss: 0.9915965710799706\n",
      "iter #7 Loss: 0.9002187918436709\n",
      "iter #8 Loss: 0.8372296274162186\n",
      "iter #9 Loss: 0.7924836054066111\n",
      "iter #10 Loss: 0.7593924434959586\n",
      "iter #11 Loss: 0.7349380469564254\n",
      "iter #12 Loss: 0.7159714663240511\n",
      "iter #13 Loss: 0.7015181594920642\n",
      "iter #14 Loss: 0.6907402070494473\n",
      "iter #15 Loss: 0.6819420863075305\n",
      "iter #16 Loss: 0.6747928611215601\n",
      "iter #17 Loss: 0.6700583217561548\n",
      "iter #18 Loss: 0.6657503828179413\n",
      "iter #19 Loss: 0.6627726240962895\n",
      "iter #20 Loss: 0.6607759078293283\n",
      "iter #21 Loss: 0.6590185140065735\n",
      "iter #22 Loss: 0.6577540036990558\n",
      "iter #23 Loss: 0.6568479255446927\n",
      "iter #24 Loss: 0.6559087094392269\n",
      "iter #25 Loss: 0.6550561811415677\n",
      "iter #26 Loss: 0.6541972075622093\n",
      "iter #27 Loss: 0.6534011369656185\n",
      "iter #28 Loss: 0.6525897617796956\n",
      "iter #29 Loss: 0.6514357901012837\n",
      "iter #30 Loss: 0.6500834152858874\n",
      "iter #31 Loss: 0.6482188176685179\n",
      "iter #32 Loss: 0.646191596757942\n",
      "iter #33 Loss: 0.643661613807763\n",
      "iter #34 Loss: 0.6403817750021891\n",
      "iter #35 Loss: 0.6364692000643856\n",
      "iter #36 Loss: 0.6321304896610037\n",
      "iter #37 Loss: 0.6265985051992581\n",
      "iter #38 Loss: 0.6200227739317768\n",
      "iter #39 Loss: 0.6125909174759376\n",
      "iter #40 Loss: 0.6046883476340226\n",
      "iter #41 Loss: 0.595514866301251\n",
      "iter #42 Loss: 0.586261789810839\n",
      "iter #43 Loss: 0.5762286314050559\n",
      "iter #44 Loss: 0.5667455613915691\n",
      "iter #45 Loss: 0.5566243052028762\n",
      "iter #46 Loss: 0.5467348121068805\n",
      "iter #47 Loss: 0.5370308625213991\n",
      "iter #48 Loss: 0.5276327454650462\n",
      "iter #49 Loss: 0.518616933205406\n",
      "iter #50 Loss: 0.5093606792503808\n",
      "iter #51 Loss: 0.5008208131427088\n",
      "iter #52 Loss: 0.4925473351693395\n",
      "iter #53 Loss: 0.48474373392344733\n",
      "iter #54 Loss: 0.477324415017203\n",
      "iter #55 Loss: 0.47044367967220735\n",
      "iter #56 Loss: 0.4636531149221556\n",
      "iter #57 Loss: 0.45738243640679394\n",
      "iter #58 Loss: 0.4513335560027718\n",
      "iter #59 Loss: 0.445647281968049\n",
      "iter #60 Loss: 0.4402952241678226\n",
      "iter #61 Loss: 0.43517163021461613\n",
      "iter #62 Loss: 0.43047150994088446\n",
      "iter #63 Loss: 0.4259304814040661\n",
      "iter #64 Loss: 0.42151717540954575\n",
      "iter #65 Loss: 0.4174839303389116\n",
      "iter #66 Loss: 0.41339053693912964\n",
      "iter #67 Loss: 0.40966152142600964\n",
      "iter #68 Loss: 0.4063942747067679\n",
      "iter #69 Loss: 0.4028728240864531\n",
      "iter #70 Loss: 0.39973041067268644\n",
      "iter #71 Loss: 0.39652737672558896\n",
      "iter #72 Loss: 0.39358411156359663\n",
      "iter #73 Loss: 0.39068677066470764\n",
      "iter #74 Loss: 0.38811256568217034\n",
      "iter #75 Loss: 0.3854764578911254\n",
      "iter #76 Loss: 0.38315046433037914\n",
      "iter #77 Loss: 0.3807425929545449\n",
      "iter #78 Loss: 0.37830967478794497\n",
      "iter #79 Loss: 0.3762229676665691\n",
      "iter #80 Loss: 0.37418806885704775\n",
      "iter #81 Loss: 0.37245673780816463\n",
      "iter #82 Loss: 0.370404344354638\n",
      "iter #83 Loss: 0.36847232667927815\n",
      "iter #84 Loss: 0.3668347818181297\n",
      "iter #85 Loss: 0.3651095848852003\n",
      "iter #86 Loss: 0.3634197645002815\n",
      "iter #87 Loss: 0.36198779643716544\n",
      "iter #88 Loss: 0.36052589005020064\n",
      "iter #89 Loss: 0.35902164233517525\n",
      "iter #90 Loss: 0.35769099674097776\n",
      "iter #91 Loss: 0.35629153631741023\n",
      "iter #92 Loss: 0.3550738169986584\n",
      "iter #93 Loss: 0.35378029774212594\n",
      "iter #94 Loss: 0.3525406541633727\n",
      "iter #95 Loss: 0.3513924972660045\n",
      "iter #96 Loss: 0.35052922195967684\n",
      "iter #97 Loss: 0.34927941868223517\n",
      "iter #98 Loss: 0.348388093036746\n",
      "iter #99 Loss: 0.3472211395158683\n",
      "iter #100 Loss: 0.34628896485200994\n",
      "iter #101 Loss: 0.3453688790955519\n",
      "iter #102 Loss: 0.34460769083142884\n",
      "iter #103 Loss: 0.3434775342909515\n",
      "iter #104 Loss: 0.3427470532354667\n",
      "iter #105 Loss: 0.3418166235959167\n",
      "iter #106 Loss: 0.3408543754955234\n",
      "iter #107 Loss: 0.3403831585523138\n",
      "iter #108 Loss: 0.33960622702228843\n",
      "iter #109 Loss: 0.338649489817583\n",
      "iter #110 Loss: 0.33807339957976706\n",
      "iter #111 Loss: 0.33746797746510676\n",
      "iter #112 Loss: 0.33653895797085037\n",
      "iter #113 Loss: 0.3358633697108569\n",
      "iter #114 Loss: 0.33529458013434094\n",
      "iter #115 Loss: 0.3346021341604327\n",
      "iter #116 Loss: 0.3342392741877415\n",
      "iter #117 Loss: 0.33337254298444324\n",
      "iter #118 Loss: 0.3328937803995488\n",
      "iter #119 Loss: 0.3322111288567787\n",
      "iter #120 Loss: 0.33167573410620543\n",
      "iter #121 Loss: 0.331139855559556\n",
      "iter #122 Loss: 0.3304879957346747\n",
      "iter #123 Loss: 0.3300441786798124\n",
      "iter #124 Loss: 0.3294420614460398\n",
      "iter #125 Loss: 0.3288706999064097\n",
      "iter #126 Loss: 0.32840246351691066\n",
      "iter #127 Loss: 0.3280686551355166\n"
     ]
    }
   ],
   "source": [
    "for it in tqdm(range(num_epochs)):\n",
    "    losses = []\n",
    "    for x, y in train_loader:\n",
    "         if cuda:\n",
    "            x, y = x.cuda(), y.cuda()\n",
    "            optimizer.zero_grad()\n",
    "            outputs = model(x)\n",
    "            loss = loss_fn(outputs.squeeze(), y.type(torch.float32))\n",
    "            losses.append(loss.item())\n",
    "            loss.backward()\n",
    "            optimizer.step()\n",
    "    print(\"iter #{}\".format(it), \"Loss:\", sum(losses) / len(losses))"
   ]
  },
  {
   "cell_type": "code",
   "execution_count": 11,
   "metadata": {
    "colab": {
     "base_uri": "https://localhost:8080/"
    },
    "id": "zs_GVbSYmhib",
    "outputId": "d4a5a7f6-f2a6-4d08-9083-84a2812c3f45"
   },
   "outputs": [
    {
     "name": "stdout",
     "output_type": "stream",
     "text": [
      "user_factors.weight tensor([[ 1.1512,  1.3940,  1.1673,  ...,  1.2324,  0.7211,  1.7474],\n",
      "        [ 1.2859,  1.1964,  2.3304,  ..., -0.0715,  0.2629,  1.8346],\n",
      "        [-1.7054, -1.6825,  2.8490,  ...,  2.0377,  0.3576,  0.5939],\n",
      "        ...,\n",
      "        [ 1.4475,  0.2992, -0.2271,  ...,  2.4767,  2.1634, -0.0642],\n",
      "        [ 0.7949,  0.8243,  1.0827,  ...,  1.0353,  1.4539,  1.0300],\n",
      "        [ 1.2303,  0.2946,  2.2650,  ...,  1.0810,  0.7876,  0.7840]],\n",
      "       device='cuda:0')\n",
      "item_factors.weight tensor([[0.8154, 0.6830, 0.6034,  ..., 0.1318, 0.3278, 0.3730],\n",
      "        [0.1056, 0.8786, 0.6946,  ..., 0.3408, 0.2873, 0.7475],\n",
      "        [0.6197, 0.7515, 0.7200,  ..., 0.4309, 0.4923, 0.0477],\n",
      "        ...,\n",
      "        [0.3231, 0.3208, 0.3338,  ..., 0.3444, 0.3440, 0.3437],\n",
      "        [0.3888, 0.3733, 0.4296,  ..., 0.4212, 0.3944, 0.3949],\n",
      "        [0.4120, 0.4073, 0.4326,  ..., 0.4057, 0.4133, 0.4213]],\n",
      "       device='cuda:0')\n"
     ]
    }
   ],
   "source": [
    "# By training the model, we will have tuned latent factors for movies and users.\n",
    "c = 0\n",
    "uw = 0\n",
    "iw = 0 \n",
    "for name, param in model.named_parameters():\n",
    "    if param.requires_grad:\n",
    "        print(name, param.data)\n",
    "        if c == 0:\n",
    "          uw = param.data\n",
    "          c +=1\n",
    "        else:\n",
    "          iw = param.data\n",
    "        #print('param_data', param_data)"
   ]
  },
  {
   "cell_type": "code",
   "execution_count": 12,
   "metadata": {
    "id": "IJgie01_p8k5"
   },
   "outputs": [],
   "source": [
    "trained_movie_embeddings = model.item_factors.weight.data.cpu().numpy()"
   ]
  },
  {
   "cell_type": "code",
   "execution_count": 13,
   "metadata": {
    "colab": {
     "base_uri": "https://localhost:8080/"
    },
    "id": "R-_tHZ_E_rub",
    "outputId": "cb97ce5d-7140-43fa-8ffa-7603a22eee2c"
   },
   "outputs": [
    {
     "data": {
      "text/plain": [
       "9724"
      ]
     },
     "execution_count": 13,
     "metadata": {},
     "output_type": "execute_result"
    }
   ],
   "source": [
    "len(trained_movie_embeddings) # unique movie factor weights"
   ]
  },
  {
   "cell_type": "code",
   "execution_count": 14,
   "metadata": {
    "id": "bl9s4iqXy75q"
   },
   "outputs": [],
   "source": [
    "from sklearn.cluster import KMeans\n",
    "# Fit the clusters based on the movie weights\n",
    "kmeans = KMeans(n_clusters=10, random_state=0).fit(trained_movie_embeddings)"
   ]
  },
  {
   "cell_type": "code",
   "execution_count": 15,
   "metadata": {
    "colab": {
     "base_uri": "https://localhost:8080/"
    },
    "id": "8MDzp-9u-m5n",
    "outputId": "c6f77e4d-68d1-49c5-c022-25e80e99007d"
   },
   "outputs": [
    {
     "name": "stdout",
     "output_type": "stream",
     "text": [
      "Cluster #0\n",
      "\t True Lies (1994)\n",
      "\t Speed (1994)\n",
      "\t Mask, The (1994)\n",
      "\t Mrs. Doubtfire (1993)\n",
      "\t Die Hard: With a Vengeance (1995)\n",
      "\t Home Alone (1990)\n",
      "\t Jumanji (1995)\n",
      "\t Clueless (1995)\n",
      "\t Outbreak (1995)\n",
      "\t Ace Ventura: When Nature Calls (1995)\n",
      "Cluster #1\n",
      "\t Batman Returns (1992)\n",
      "\t Arachnophobia (1990)\n",
      "\t Star Trek: The Motion Picture (1979)\n",
      "\t Cell, The (2000)\n",
      "\t Batman & Robin (1997)\n",
      "\t Godzilla (1998)\n",
      "\t Daredevil (2003)\n",
      "\t Spy Hard (1996)\n",
      "\t Spawn (1997)\n",
      "\t Honey, I Blew Up the Kid (1992)\n",
      "Cluster #2\n",
      "\t Forrest Gump (1994)\n",
      "\t Shawshank Redemption, The (1994)\n",
      "\t Silence of the Lambs, The (1991)\n",
      "\t Matrix, The (1999)\n",
      "\t Star Wars: Episode IV - A New Hope (1977)\n",
      "\t Braveheart (1995)\n",
      "\t Terminator 2: Judgment Day (1991)\n",
      "\t Toy Story (1995)\n",
      "\t Star Wars: Episode V - The Empire Strikes Back (1980)\n",
      "\t Raiders of the Lost Ark (Indiana Jones and the Raiders of the Lost Ark) (1981)\n",
      "Cluster #3\n",
      "\t Schindler's List (1993)\n",
      "\t Fargo (1996)\n",
      "\t Monty Python and the Holy Grail (1975)\n",
      "\t One Flew Over the Cuckoo's Nest (1975)\n",
      "\t Godfather: Part II, The (1974)\n",
      "\t Goodfellas (1990)\n",
      "\t Blade Runner (1982)\n",
      "\t E.T. the Extra-Terrestrial (1982)\n",
      "\t Amelie (Fabuleux destin d'Amélie Poulain, Le) (2001)\n",
      "\t Willy Wonka & the Chocolate Factory (1971)\n",
      "Cluster #4\n",
      "\t GoldenEye (1995)\n",
      "\t Net, The (1995)\n",
      "\t Cliffhanger (1993)\n",
      "\t Mummy, The (1999)\n",
      "\t Demolition Man (1993)\n",
      "\t Starship Troopers (1997)\n",
      "\t Robin Hood: Men in Tights (1993)\n",
      "\t Grease (1978)\n",
      "\t Miss Congeniality (2000)\n",
      "\t Eraser (1996)\n",
      "Cluster #5\n",
      "\t Titanic (1997)\n",
      "\t Babe (1995)\n",
      "\t Minority Report (2002)\n",
      "\t Avatar (2009)\n",
      "\t Matrix Revolutions, The (2003)\n",
      "\t Star Wars: Episode III - Revenge of the Sith (2005)\n",
      "\t Charlie's Angels (2000)\n",
      "\t Blair Witch Project, The (1999)\n",
      "\t Signs (2002)\n",
      "\t I, Robot (2004)\n",
      "Cluster #6\n",
      "\t Pulp Fiction (1994)\n",
      "\t Fight Club (1999)\n",
      "\t Usual Suspects, The (1995)\n",
      "\t American Beauty (1999)\n",
      "\t Seven (a.k.a. Se7en) (1995)\n",
      "\t Lord of the Rings: The Fellowship of the Ring, The (2001)\n",
      "\t Godfather, The (1972)\n",
      "\t Twelve Monkeys (a.k.a. 12 Monkeys) (1995)\n",
      "\t Memento (2000)\n",
      "\t Alien (1979)\n",
      "Cluster #7\n",
      "\t Ace Ventura: Pet Detective (1994)\n",
      "\t Dumb & Dumber (Dumb and Dumber) (1994)\n",
      "\t Waterworld (1995)\n",
      "\t Breakfast Club, The (1985)\n",
      "\t Heat (1995)\n",
      "\t Happy Gilmore (1996)\n",
      "\t Casino (1995)\n",
      "\t Leaving Las Vegas (1995)\n",
      "\t Legends of the Fall (1994)\n",
      "\t Die Hard 2 (1990)\n",
      "Cluster #8\n",
      "\t Jurassic Park (1993)\n",
      "\t Independence Day (a.k.a. ID4) (1996)\n",
      "\t Shrek (2001)\n",
      "\t Men in Black (a.k.a. MIB) (1997)\n",
      "\t Mission: Impossible (1996)\n",
      "\t Dark Knight, The (2008)\n",
      "\t Beauty and the Beast (1991)\n",
      "\t Finding Nemo (2003)\n",
      "\t Stargate (1994)\n",
      "\t Star Wars: Episode I - The Phantom Menace (1999)\n",
      "Cluster #9\n",
      "\t Apollo 13 (1995)\n",
      "\t Batman Forever (1995)\n",
      "\t While You Were Sleeping (1995)\n",
      "\t Who Framed Roger Rabbit? (1988)\n",
      "\t Back to the Future Part III (1990)\n",
      "\t Back to the Future Part II (1989)\n",
      "\t Jerry Maguire (1996)\n",
      "\t Contact (1997)\n",
      "\t Scream (1996)\n",
      "\t Honey, I Shrunk the Kids (1989)\n"
     ]
    }
   ],
   "source": [
    "'''It can be seen here that the movies that are in the same cluster tend to have\n",
    "similar genres. Also note that the algorithm is unfamiliar with the movie name\n",
    "and only obtained the relationships by looking at the numbers representing how\n",
    "users have responded to the movie selections.'''\n",
    "for cluster in range(10):\n",
    "    print(\"Cluster #{}\".format(cluster))\n",
    "    movs = []\n",
    "    # Find movie indices belonging to the current cluster\n",
    "    for movidx in np.where(kmeans.labels_ == cluster)[0]:\n",
    "        movid = train_set.idx2movieid[movidx]\n",
    "        # Check how many ratings this movie has\n",
    "        rat_count = len(ratings_df.loc[ratings_df['movieId'] == movid])\n",
    "        movs.append((movie_names[movid], rat_count))\n",
    "    # Sort movies by rating count in descending order and print top 10\n",
    "    for mov in sorted(movs, key=lambda tup: tup[1], reverse=True)[:10]:\n",
    "        print(\"\\t\", mov[0])"
   ]
  }
 ],
 "metadata": {
  "accelerator": "GPU",
  "colab": {
   "collapsed_sections": [],
   "name": "Recommendation_System.ipynb",
   "provenance": []
  },
  "kernelspec": {
   "display_name": "Python 3 (ipykernel)",
   "language": "python",
   "name": "python3"
  },
  "language_info": {
   "codemirror_mode": {
    "name": "ipython",
    "version": 3
   },
   "file_extension": ".py",
   "mimetype": "text/x-python",
   "name": "python",
   "nbconvert_exporter": "python",
   "pygments_lexer": "ipython3",
   "version": "3.10.16"
  },
  "widgets": {
   "application/vnd.jupyter.widget-state+json": {
    "005a499c40bd407ca20c2492d9c4f170": {
     "model_module": "@jupyter-widgets/base",
     "model_name": "LayoutModel",
     "state": {
      "_model_module": "@jupyter-widgets/base",
      "_model_module_version": "1.2.0",
      "_model_name": "LayoutModel",
      "_view_count": null,
      "_view_module": "@jupyter-widgets/base",
      "_view_module_version": "1.2.0",
      "_view_name": "LayoutView",
      "align_content": null,
      "align_items": null,
      "align_self": null,
      "border": null,
      "bottom": null,
      "display": null,
      "flex": null,
      "flex_flow": null,
      "grid_area": null,
      "grid_auto_columns": null,
      "grid_auto_flow": null,
      "grid_auto_rows": null,
      "grid_column": null,
      "grid_gap": null,
      "grid_row": null,
      "grid_template_areas": null,
      "grid_template_columns": null,
      "grid_template_rows": null,
      "height": null,
      "justify_content": null,
      "justify_items": null,
      "left": null,
      "margin": null,
      "max_height": null,
      "max_width": null,
      "min_height": null,
      "min_width": null,
      "object_fit": null,
      "object_position": null,
      "order": null,
      "overflow": null,
      "overflow_x": null,
      "overflow_y": null,
      "padding": null,
      "right": null,
      "top": null,
      "visibility": null,
      "width": null
     }
    },
    "20b4738815cd467dba2946031d6d9027": {
     "model_module": "@jupyter-widgets/base",
     "model_name": "LayoutModel",
     "state": {
      "_model_module": "@jupyter-widgets/base",
      "_model_module_version": "1.2.0",
      "_model_name": "LayoutModel",
      "_view_count": null,
      "_view_module": "@jupyter-widgets/base",
      "_view_module_version": "1.2.0",
      "_view_name": "LayoutView",
      "align_content": null,
      "align_items": null,
      "align_self": null,
      "border": null,
      "bottom": null,
      "display": null,
      "flex": null,
      "flex_flow": null,
      "grid_area": null,
      "grid_auto_columns": null,
      "grid_auto_flow": null,
      "grid_auto_rows": null,
      "grid_column": null,
      "grid_gap": null,
      "grid_row": null,
      "grid_template_areas": null,
      "grid_template_columns": null,
      "grid_template_rows": null,
      "height": null,
      "justify_content": null,
      "justify_items": null,
      "left": null,
      "margin": null,
      "max_height": null,
      "max_width": null,
      "min_height": null,
      "min_width": null,
      "object_fit": null,
      "object_position": null,
      "order": null,
      "overflow": null,
      "overflow_x": null,
      "overflow_y": null,
      "padding": null,
      "right": null,
      "top": null,
      "visibility": null,
      "width": null
     }
    },
    "3c1765cabeaf4d75a130311ddc4591a1": {
     "model_module": "@jupyter-widgets/controls",
     "model_name": "HBoxModel",
     "state": {
      "_dom_classes": [],
      "_model_module": "@jupyter-widgets/controls",
      "_model_module_version": "1.5.0",
      "_model_name": "HBoxModel",
      "_view_count": null,
      "_view_module": "@jupyter-widgets/controls",
      "_view_module_version": "1.5.0",
      "_view_name": "HBoxView",
      "box_style": "",
      "children": [
       "IPY_MODEL_69073fd458234bba829af9731b4fce1c",
       "IPY_MODEL_88151edb53134487b95f6bcbcd7fd2b4"
      ],
      "layout": "IPY_MODEL_6db170b52f5a4f72afd083a3a9c157aa"
     }
    },
    "69073fd458234bba829af9731b4fce1c": {
     "model_module": "@jupyter-widgets/controls",
     "model_name": "FloatProgressModel",
     "state": {
      "_dom_classes": [],
      "_model_module": "@jupyter-widgets/controls",
      "_model_module_version": "1.5.0",
      "_model_name": "FloatProgressModel",
      "_view_count": null,
      "_view_module": "@jupyter-widgets/controls",
      "_view_module_version": "1.5.0",
      "_view_name": "ProgressView",
      "bar_style": "success",
      "description": "100%",
      "description_tooltip": null,
      "layout": "IPY_MODEL_20b4738815cd467dba2946031d6d9027",
      "max": 128,
      "min": 0,
      "orientation": "horizontal",
      "style": "IPY_MODEL_9b185906b1dc465e93b9f058a1fec47a",
      "value": 128
     }
    },
    "6db170b52f5a4f72afd083a3a9c157aa": {
     "model_module": "@jupyter-widgets/base",
     "model_name": "LayoutModel",
     "state": {
      "_model_module": "@jupyter-widgets/base",
      "_model_module_version": "1.2.0",
      "_model_name": "LayoutModel",
      "_view_count": null,
      "_view_module": "@jupyter-widgets/base",
      "_view_module_version": "1.2.0",
      "_view_name": "LayoutView",
      "align_content": null,
      "align_items": null,
      "align_self": null,
      "border": null,
      "bottom": null,
      "display": null,
      "flex": null,
      "flex_flow": null,
      "grid_area": null,
      "grid_auto_columns": null,
      "grid_auto_flow": null,
      "grid_auto_rows": null,
      "grid_column": null,
      "grid_gap": null,
      "grid_row": null,
      "grid_template_areas": null,
      "grid_template_columns": null,
      "grid_template_rows": null,
      "height": null,
      "justify_content": null,
      "justify_items": null,
      "left": null,
      "margin": null,
      "max_height": null,
      "max_width": null,
      "min_height": null,
      "min_width": null,
      "object_fit": null,
      "object_position": null,
      "order": null,
      "overflow": null,
      "overflow_x": null,
      "overflow_y": null,
      "padding": null,
      "right": null,
      "top": null,
      "visibility": null,
      "width": null
     }
    },
    "88151edb53134487b95f6bcbcd7fd2b4": {
     "model_module": "@jupyter-widgets/controls",
     "model_name": "HTMLModel",
     "state": {
      "_dom_classes": [],
      "_model_module": "@jupyter-widgets/controls",
      "_model_module_version": "1.5.0",
      "_model_name": "HTMLModel",
      "_view_count": null,
      "_view_module": "@jupyter-widgets/controls",
      "_view_module_version": "1.5.0",
      "_view_name": "HTMLView",
      "description": "",
      "description_tooltip": null,
      "layout": "IPY_MODEL_005a499c40bd407ca20c2492d9c4f170",
      "placeholder": "​",
      "style": "IPY_MODEL_c279f9a0a0fe498b9db167a237517e6e",
      "value": " 128/128 [03:03&lt;00:00,  1.44s/it]"
     }
    },
    "9b185906b1dc465e93b9f058a1fec47a": {
     "model_module": "@jupyter-widgets/controls",
     "model_name": "ProgressStyleModel",
     "state": {
      "_model_module": "@jupyter-widgets/controls",
      "_model_module_version": "1.5.0",
      "_model_name": "ProgressStyleModel",
      "_view_count": null,
      "_view_module": "@jupyter-widgets/base",
      "_view_module_version": "1.2.0",
      "_view_name": "StyleView",
      "bar_color": null,
      "description_width": "initial"
     }
    },
    "c279f9a0a0fe498b9db167a237517e6e": {
     "model_module": "@jupyter-widgets/controls",
     "model_name": "DescriptionStyleModel",
     "state": {
      "_model_module": "@jupyter-widgets/controls",
      "_model_module_version": "1.5.0",
      "_model_name": "DescriptionStyleModel",
      "_view_count": null,
      "_view_module": "@jupyter-widgets/base",
      "_view_module_version": "1.2.0",
      "_view_name": "StyleView",
      "description_width": ""
     }
    }
   }
  }
 },
 "nbformat": 4,
 "nbformat_minor": 4
}
